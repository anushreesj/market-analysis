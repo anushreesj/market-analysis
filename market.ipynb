{
 "cells": [
  {
   "cell_type": "code",
   "execution_count": 2,
   "metadata": {},
   "outputs": [],
   "source": [
    "import numpy as np \n",
    "import pandas as pd \n",
    "import pandas as pd\n",
    "%matplotlib inline\n",
    "import random\n",
    "import matplotlib.pyplot as plt\n",
    "import seaborn as sns\n",
    "\n",
    "from subprocess import check_output\n",
    "\n",
    "sales = pd.read_csv('store.csv') \n"
   ]
  },
  {
   "cell_type": "code",
   "execution_count": 3,
   "metadata": {},
   "outputs": [
    {
     "data": {
      "text/html": [
       "<div>\n",
       "<style scoped>\n",
       "    .dataframe tbody tr th:only-of-type {\n",
       "        vertical-align: middle;\n",
       "    }\n",
       "\n",
       "    .dataframe tbody tr th {\n",
       "        vertical-align: top;\n",
       "    }\n",
       "\n",
       "    .dataframe thead th {\n",
       "        text-align: right;\n",
       "    }\n",
       "</style>\n",
       "<table border=\"1\" class=\"dataframe\">\n",
       "  <thead>\n",
       "    <tr style=\"text-align: right;\">\n",
       "      <th></th>\n",
       "      <th>reps</th>\n",
       "      <th>product</th>\n",
       "      <th>qty</th>\n",
       "      <th>revenue</th>\n",
       "      <th>region</th>\n",
       "    </tr>\n",
       "  </thead>\n",
       "  <tbody>\n",
       "    <tr>\n",
       "      <th>0</th>\n",
       "      <td>Chitra</td>\n",
       "      <td>Galaxy</td>\n",
       "      <td>2</td>\n",
       "      <td>155.10</td>\n",
       "      <td>West</td>\n",
       "    </tr>\n",
       "    <tr>\n",
       "      <th>1</th>\n",
       "      <td>Vijay</td>\n",
       "      <td>Jet</td>\n",
       "      <td>2</td>\n",
       "      <td>39.30</td>\n",
       "      <td>North</td>\n",
       "    </tr>\n",
       "    <tr>\n",
       "      <th>2</th>\n",
       "      <td>Mala</td>\n",
       "      <td>Beacon</td>\n",
       "      <td>3</td>\n",
       "      <td>74.25</td>\n",
       "      <td>West</td>\n",
       "    </tr>\n",
       "    <tr>\n",
       "      <th>3</th>\n",
       "      <td>Suman</td>\n",
       "      <td>Alpen</td>\n",
       "      <td>3</td>\n",
       "      <td>100.98</td>\n",
       "      <td>North</td>\n",
       "    </tr>\n",
       "    <tr>\n",
       "      <th>4</th>\n",
       "      <td>Rachna</td>\n",
       "      <td>Orbit</td>\n",
       "      <td>2</td>\n",
       "      <td>44.98</td>\n",
       "      <td>North</td>\n",
       "    </tr>\n",
       "  </tbody>\n",
       "</table>\n",
       "</div>"
      ],
      "text/plain": [
       "     reps product  qty  revenue region\n",
       "0  Chitra  Galaxy    2   155.10   West\n",
       "1   Vijay     Jet    2    39.30  North\n",
       "2    Mala  Beacon    3    74.25   West\n",
       "3   Suman   Alpen    3   100.98  North\n",
       "4  Rachna   Orbit    2    44.98  North"
      ]
     },
     "execution_count": 3,
     "metadata": {},
     "output_type": "execute_result"
    }
   ],
   "source": [
    "sales[:5]"
   ]
  },
  {
   "cell_type": "code",
   "execution_count": 4,
   "metadata": {},
   "outputs": [
    {
     "data": {
      "text/plain": [
       "(10000, 5)"
      ]
     },
     "execution_count": 4,
     "metadata": {},
     "output_type": "execute_result"
    }
   ],
   "source": [
    "sales.shape"
   ]
  },
  {
   "cell_type": "code",
   "execution_count": 5,
   "metadata": {},
   "outputs": [
    {
     "data": {
      "text/html": [
       "<div>\n",
       "<style scoped>\n",
       "    .dataframe tbody tr th:only-of-type {\n",
       "        vertical-align: middle;\n",
       "    }\n",
       "\n",
       "    .dataframe tbody tr th {\n",
       "        vertical-align: top;\n",
       "    }\n",
       "\n",
       "    .dataframe thead th {\n",
       "        text-align: right;\n",
       "    }\n",
       "</style>\n",
       "<table border=\"1\" class=\"dataframe\">\n",
       "  <thead>\n",
       "    <tr style=\"text-align: right;\">\n",
       "      <th></th>\n",
       "      <th>qty</th>\n",
       "      <th>revenue</th>\n",
       "    </tr>\n",
       "  </thead>\n",
       "  <tbody>\n",
       "    <tr>\n",
       "      <th>count</th>\n",
       "      <td>10000.000000</td>\n",
       "      <td>10000.000000</td>\n",
       "    </tr>\n",
       "    <tr>\n",
       "      <th>mean</th>\n",
       "      <td>3.387400</td>\n",
       "      <td>90.570221</td>\n",
       "    </tr>\n",
       "    <tr>\n",
       "      <th>std</th>\n",
       "      <td>4.318308</td>\n",
       "      <td>127.803928</td>\n",
       "    </tr>\n",
       "    <tr>\n",
       "      <th>min</th>\n",
       "      <td>1.000000</td>\n",
       "      <td>18.430000</td>\n",
       "    </tr>\n",
       "    <tr>\n",
       "      <th>25%</th>\n",
       "      <td>2.000000</td>\n",
       "      <td>39.300000</td>\n",
       "    </tr>\n",
       "    <tr>\n",
       "      <th>50%</th>\n",
       "      <td>2.000000</td>\n",
       "      <td>58.425000</td>\n",
       "    </tr>\n",
       "    <tr>\n",
       "      <th>75%</th>\n",
       "      <td>3.000000</td>\n",
       "      <td>75.000000</td>\n",
       "    </tr>\n",
       "    <tr>\n",
       "      <th>max</th>\n",
       "      <td>25.000000</td>\n",
       "      <td>1998.750000</td>\n",
       "    </tr>\n",
       "  </tbody>\n",
       "</table>\n",
       "</div>"
      ],
      "text/plain": [
       "                qty       revenue\n",
       "count  10000.000000  10000.000000\n",
       "mean       3.387400     90.570221\n",
       "std        4.318308    127.803928\n",
       "min        1.000000     18.430000\n",
       "25%        2.000000     39.300000\n",
       "50%        2.000000     58.425000\n",
       "75%        3.000000     75.000000\n",
       "max       25.000000   1998.750000"
      ]
     },
     "execution_count": 5,
     "metadata": {},
     "output_type": "execute_result"
    }
   ],
   "source": [
    "sales.describe()"
   ]
  },
  {
   "cell_type": "code",
   "execution_count": 6,
   "metadata": {},
   "outputs": [
    {
     "data": {
      "text/plain": [
       "array(['Chitra', 'Vijay', 'Mala', 'Suman', 'Rachna', 'Aash', 'Chand',\n",
       "       'Suraj', 'Bala', 'Seet', 'Ravi', 'Anusha', 'Ananya', 'Jaggi',\n",
       "       'Reva', 'Meena', 'Sai', 'Rahul', 'Ram', 'Prarth', 'Pooja', 'Rishi',\n",
       "       'Ranga', 'Sesh', 'Shaanth', 'Bharath', 'Susan', 'Ratna', 'Easwar',\n",
       "       'Prasad', 'Madhu', 'Suresh', 'Anahit', 'Sumedh', 'Manju',\n",
       "       'Nandini', 'Santosh', 'Satyen', 'Vaghya', 'Palak', 'Aparna',\n",
       "       'Jagdish', 'Vish', 'Kumar', 'John', 'Bhat', 'Hussain', 'Alka',\n",
       "       'Rohini', 'Keshab', 'Nidhi', 'Satya', 'Venkat', 'Veeyes', 'Rajat',\n",
       "       'Chandra', 'Kamat', 'Raji', 'Swami', 'Jay', 'Mukund', 'Priya',\n",
       "       'Kishen', 'Vidya', 'Akila', 'Durga', 'Mak', 'Mehta', 'Javed',\n",
       "       'Sruti', 'Mukesh', 'Kishore'], dtype=object)"
      ]
     },
     "execution_count": 6,
     "metadata": {},
     "output_type": "execute_result"
    }
   ],
   "source": [
    "sales['reps'].unique() "
   ]
  },
  {
   "cell_type": "code",
   "execution_count": 7,
   "metadata": {},
   "outputs": [
    {
     "name": "stdout",
     "output_type": "stream",
     "text": [
      "1998.75\n",
      "18.43\n"
     ]
    }
   ],
   "source": [
    "print(sales.revenue.max())\n",
    "print(sales.revenue.min())"
   ]
  },
  {
   "cell_type": "code",
   "execution_count": 8,
   "metadata": {},
   "outputs": [
    {
     "data": {
      "text/plain": [
       "Seet       353\n",
       "Santosh    318\n",
       "Rachna     318\n",
       "Aash       315\n",
       "Vish       308\n",
       "Sai        292\n",
       "Jagdish    292\n",
       "Nandini    286\n",
       "Shaanth    283\n",
       "Ravi       276\n",
       "Ananya     216\n",
       "Suresh     207\n",
       "Hussain    206\n",
       "Vaghya     205\n",
       "Mala       194\n",
       "Easwar     180\n",
       "Suman      173\n",
       "Bharath    171\n",
       "Sumedh     125\n",
       "Alka       116\n",
       "Satya      115\n",
       "Mukund     115\n",
       "Palak      115\n",
       "Mehta      114\n",
       "Raji       113\n",
       "Ranga      113\n",
       "Satyen     112\n",
       "Priya      111\n",
       "Vijay      111\n",
       "Swami      110\n",
       "          ... \n",
       "Chandra    101\n",
       "Keshab     101\n",
       "Meena      100\n",
       "Chand      100\n",
       "Pooja      100\n",
       "Vidya       99\n",
       "Rajat       99\n",
       "Mukesh      99\n",
       "Durga       98\n",
       "Bala        97\n",
       "Prarth      97\n",
       "Rishi       97\n",
       "Ratna       96\n",
       "Chitra      96\n",
       "Manju       94\n",
       "Kamat       94\n",
       "Kumar       92\n",
       "Javed       91\n",
       "Reva        90\n",
       "Jaggi       89\n",
       "Veeyes      89\n",
       "Kishore     88\n",
       "Bhat        87\n",
       "Prasad      86\n",
       "Suraj       85\n",
       "Ram         84\n",
       "Jay         84\n",
       "Anusha      82\n",
       "Sesh        81\n",
       "Rohini      79\n",
       "Name: reps, Length: 72, dtype: int64"
      ]
     },
     "execution_count": 8,
     "metadata": {},
     "output_type": "execute_result"
    }
   ],
   "source": [
    "pd.value_counts(sales.reps, sort=True)"
   ]
  },
  {
   "cell_type": "code",
   "execution_count": 9,
   "metadata": {},
   "outputs": [
    {
     "data": {
      "text/html": [
       "<div>\n",
       "<style scoped>\n",
       "    .dataframe tbody tr th:only-of-type {\n",
       "        vertical-align: middle;\n",
       "    }\n",
       "\n",
       "    .dataframe tbody tr th {\n",
       "        vertical-align: top;\n",
       "    }\n",
       "\n",
       "    .dataframe thead th {\n",
       "        text-align: right;\n",
       "    }\n",
       "</style>\n",
       "<table border=\"1\" class=\"dataframe\">\n",
       "  <thead>\n",
       "    <tr style=\"text-align: right;\">\n",
       "      <th></th>\n",
       "      <th></th>\n",
       "      <th></th>\n",
       "      <th>qty</th>\n",
       "      <th>revenue</th>\n",
       "    </tr>\n",
       "    <tr>\n",
       "      <th>region</th>\n",
       "      <th>reps</th>\n",
       "      <th>product</th>\n",
       "      <th></th>\n",
       "      <th></th>\n",
       "    </tr>\n",
       "  </thead>\n",
       "  <tbody>\n",
       "    <tr>\n",
       "      <th rowspan=\"12\" valign=\"top\">East</th>\n",
       "      <th rowspan=\"12\" valign=\"top\">Aash</th>\n",
       "      <th>Almond</th>\n",
       "      <td>102</td>\n",
       "      <td>2535.02</td>\n",
       "    </tr>\n",
       "    <tr>\n",
       "      <th>Alpen</th>\n",
       "      <td>186</td>\n",
       "      <td>6217.75</td>\n",
       "    </tr>\n",
       "    <tr>\n",
       "      <th>Beacon</th>\n",
       "      <td>48</td>\n",
       "      <td>1190.76</td>\n",
       "    </tr>\n",
       "    <tr>\n",
       "      <th>Galaxy</th>\n",
       "      <td>30</td>\n",
       "      <td>2378.10</td>\n",
       "    </tr>\n",
       "    <tr>\n",
       "      <th>Halls</th>\n",
       "      <td>17</td>\n",
       "      <td>319.11</td>\n",
       "    </tr>\n",
       "    <tr>\n",
       "      <th>Jet</th>\n",
       "      <td>145</td>\n",
       "      <td>2861.58</td>\n",
       "    </tr>\n",
       "    <tr>\n",
       "      <th>Mars</th>\n",
       "      <td>173</td>\n",
       "      <td>4012.66</td>\n",
       "    </tr>\n",
       "    <tr>\n",
       "      <th>Milka</th>\n",
       "      <td>127</td>\n",
       "      <td>2876.64</td>\n",
       "    </tr>\n",
       "    <tr>\n",
       "      <th>Orbit</th>\n",
       "      <td>103</td>\n",
       "      <td>2323.66</td>\n",
       "    </tr>\n",
       "    <tr>\n",
       "      <th>Prince</th>\n",
       "      <td>82</td>\n",
       "      <td>2221.74</td>\n",
       "    </tr>\n",
       "    <tr>\n",
       "      <th>Star</th>\n",
       "      <td>62</td>\n",
       "      <td>1288.15</td>\n",
       "    </tr>\n",
       "    <tr>\n",
       "      <th>Trident</th>\n",
       "      <td>60</td>\n",
       "      <td>1773.30</td>\n",
       "    </tr>\n",
       "  </tbody>\n",
       "</table>\n",
       "</div>"
      ],
      "text/plain": [
       "                     qty  revenue\n",
       "region reps product              \n",
       "East   Aash Almond   102  2535.02\n",
       "            Alpen    186  6217.75\n",
       "            Beacon    48  1190.76\n",
       "            Galaxy    30  2378.10\n",
       "            Halls     17   319.11\n",
       "            Jet      145  2861.58\n",
       "            Mars     173  4012.66\n",
       "            Milka    127  2876.64\n",
       "            Orbit    103  2323.66\n",
       "            Prince    82  2221.74\n",
       "            Star      62  1288.15\n",
       "            Trident   60  1773.30"
      ]
     },
     "execution_count": 9,
     "metadata": {},
     "output_type": "execute_result"
    }
   ],
   "source": [
    "pd.pivot_table(sales,index=[\"region\",\"reps\",\"product\"],aggfunc=np.sum)[:12]"
   ]
  },
  {
   "cell_type": "code",
   "execution_count": 10,
   "metadata": {},
   "outputs": [
    {
     "data": {
      "text/plain": [
       "region\n",
       "North    326109.54\n",
       "West     274631.29\n",
       "South    158819.85\n",
       "East     146141.53\n",
       "Name: revenue, dtype: float64"
      ]
     },
     "execution_count": 10,
     "metadata": {},
     "output_type": "execute_result"
    }
   ],
   "source": [
    "total_rev = sales.groupby('region')['revenue'].apply(lambda x: x.sum())\n",
    "total_rev.sort_values(ascending=False)"
   ]
  },
  {
   "cell_type": "code",
   "execution_count": 11,
   "metadata": {},
   "outputs": [
    {
     "data": {
      "image/png": "[encoded data removed]",
      "text/plain": [
       "<Figure size 432x288 with 1 Axes>"
      ]
     },
     "metadata": {},
     "output_type": "display_data"
    }
   ],
   "source": [
    "sales.groupby(['product']).qty.sum().sort_values(ascending=False).plot(kind='bar')\n",
    "plt.xlabel('Products', fontsize=12)\n",
    "plt.ylabel('Total quantity sold', fontsize=12)\n",
    "plt.title('Plot of \"Products\" and \"Quantity\"');"
   ]
  },
  {
   "cell_type": "code",
   "execution_count": 12,
   "metadata": {},
   "outputs": [
    {
     "data": {
      "text/plain": [
       "region\n",
       "North    326109.54\n",
       "West     274631.29\n",
       "South    158819.85\n",
       "East     146141.53\n",
       "Name: revenue, dtype: float64"
      ]
     },
     "execution_count": 12,
     "metadata": {},
     "output_type": "execute_result"
    }
   ],
   "source": [
    "total_rev = sales.groupby('region')['revenue'].apply(lambda x: x.sum())\n",
    "total_rev.sort_values(ascending=False)"
   ]
  },
  {
   "cell_type": "code",
   "execution_count": 13,
   "metadata": {},
   "outputs": [
    {
     "data": {
      "image/png": "[encoded data removed]",
      "text/plain": [
       "<Figure size 432x288 with 1 Axes>"
      ]
     },
     "metadata": {},
     "output_type": "display_data"
    }
   ],
   "source": [
    "total_rev.sort_values(ascending=False).plot(kind='bar', fontsize=12)\n",
    "plt.title('Regionwise - Revenue generated')\n",
    "plt.xlabel('Region', fontsize=12)\n",
    "plt.ylabel('Revenue', fontsize=12);"
   ]
  },
  {
   "cell_type": "code",
   "execution_count": 14,
   "metadata": {},
   "outputs": [],
   "source": [
    "from sklearn.preprocessing import LabelEncoder # encoding all the text categorical data into numerical data\n",
    "le = LabelEncoder()"
   ]
  },
  {
   "cell_type": "code",
   "execution_count": 15,
   "metadata": {},
   "outputs": [
    {
     "data": {
      "text/html": [
       "<div>\n",
       "<style scoped>\n",
       "    .dataframe tbody tr th:only-of-type {\n",
       "        vertical-align: middle;\n",
       "    }\n",
       "\n",
       "    .dataframe tbody tr th {\n",
       "        vertical-align: top;\n",
       "    }\n",
       "\n",
       "    .dataframe thead th {\n",
       "        text-align: right;\n",
       "    }\n",
       "</style>\n",
       "<table border=\"1\" class=\"dataframe\">\n",
       "  <thead>\n",
       "    <tr style=\"text-align: right;\">\n",
       "      <th></th>\n",
       "      <th>reps</th>\n",
       "      <th>product</th>\n",
       "      <th>qty</th>\n",
       "      <th>revenue</th>\n",
       "      <th>region</th>\n",
       "    </tr>\n",
       "  </thead>\n",
       "  <tbody>\n",
       "    <tr>\n",
       "      <th>0</th>\n",
       "      <td>Chitra</td>\n",
       "      <td>Galaxy</td>\n",
       "      <td>2</td>\n",
       "      <td>155.10</td>\n",
       "      <td>3</td>\n",
       "    </tr>\n",
       "    <tr>\n",
       "      <th>1</th>\n",
       "      <td>Vijay</td>\n",
       "      <td>Jet</td>\n",
       "      <td>2</td>\n",
       "      <td>39.30</td>\n",
       "      <td>1</td>\n",
       "    </tr>\n",
       "    <tr>\n",
       "      <th>2</th>\n",
       "      <td>Mala</td>\n",
       "      <td>Beacon</td>\n",
       "      <td>3</td>\n",
       "      <td>74.25</td>\n",
       "      <td>3</td>\n",
       "    </tr>\n",
       "    <tr>\n",
       "      <th>3</th>\n",
       "      <td>Suman</td>\n",
       "      <td>Alpen</td>\n",
       "      <td>3</td>\n",
       "      <td>100.98</td>\n",
       "      <td>1</td>\n",
       "    </tr>\n",
       "    <tr>\n",
       "      <th>4</th>\n",
       "      <td>Rachna</td>\n",
       "      <td>Orbit</td>\n",
       "      <td>2</td>\n",
       "      <td>44.98</td>\n",
       "      <td>1</td>\n",
       "    </tr>\n",
       "  </tbody>\n",
       "</table>\n",
       "</div>"
      ],
      "text/plain": [
       "     reps product  qty  revenue  region\n",
       "0  Chitra  Galaxy    2   155.10       3\n",
       "1   Vijay     Jet    2    39.30       1\n",
       "2    Mala  Beacon    3    74.25       3\n",
       "3   Suman   Alpen    3   100.98       1\n",
       "4  Rachna   Orbit    2    44.98       1"
      ]
     },
     "execution_count": 15,
     "metadata": {},
     "output_type": "execute_result"
    }
   ],
   "source": [
    "sales['region'] = le.fit_transform(sales['region'])\n",
    "sales.head()"
   ]
  },
  {
   "cell_type": "code",
   "execution_count": 17,
   "metadata": {},
   "outputs": [
    {
     "data": {
      "text/plain": [
       "array([[  2.  , 155.1 ],\n",
       "       [  2.  ,  39.3 ],\n",
       "       [  3.  ,  74.25]])"
      ]
     },
     "execution_count": 17,
     "metadata": {},
     "output_type": "execute_result"
    }
   ],
   "source": [
    "cols = ['qty', 'revenue']\n",
    "df = sales[cols]\n",
    "X = df.iloc[:,[0,1]].values\n",
    "X[:3]"
   ]
  },
  {
   "cell_type": "code",
   "execution_count": 18,
   "metadata": {},
   "outputs": [
    {
     "data": {
      "text/plain": [
       "array([3, 1, 3, ..., 3, 1, 3], dtype=int64)"
      ]
     },
     "execution_count": 18,
     "metadata": {},
     "output_type": "execute_result"
    }
   ],
   "source": [
    "y = sales.iloc[:,4].values\n",
    "y"
   ]
  },
  {
   "cell_type": "code",
   "execution_count": 24,
   "metadata": {},
   "outputs": [
    {
     "data": {
      "text/plain": [
       "KMeans(algorithm='auto', copy_x=True, init='k-means++', max_iter=300,\n",
       "    n_clusters=6, n_init=10, n_jobs=1, precompute_distances='auto',\n",
       "    random_state=None, tol=0.0001, verbose=0)"
      ]
     },
     "execution_count": 24,
     "metadata": {},
     "output_type": "execute_result"
    }
   ],
   "source": [
    "from sklearn.cluster import KMeans\n",
    "\n",
    "number_of_clusters=6\n",
    "km = KMeans(n_clusters=number_of_clusters)\n",
    "\n",
    "km.fit(X)"
   ]
  },
  {
   "cell_type": "code",
   "execution_count": 25,
   "metadata": {},
   "outputs": [
    {
     "data": {
      "image/png": "[encoded data removed]",
      "text/plain": [
       "<Figure size 720x576 with 1 Axes>"
      ]
     },
     "metadata": {},
     "output_type": "display_data"
    }
   ],
   "source": [
    "plt.figure(figsize=(10,8))\n",
    "plt.scatter(X[:, 0], X[:, 1])\n",
    "plt.xlabel('Quantity')\n",
    "plt.ylabel('Revenue')\n",
    "plt.title('KMeans clusters, n = 4');"
   ]
  },
  {
   "cell_type": "code",
   "execution_count": 28,
   "metadata": {},
   "outputs": [
    {
     "data": {
      "text/plain": [
       "KMeans(algorithm='auto', copy_x=True, init='k-means++', max_iter=300,\n",
       "    n_clusters=6, n_init=10, n_jobs=1, precompute_distances='auto',\n",
       "    random_state=None, tol=0.0001, verbose=0)"
      ]
     },
     "execution_count": 28,
     "metadata": {},
     "output_type": "execute_result"
    }
   ],
   "source": [
    "df[(df['qty']>12) & (df['revenue']>1000)]\n",
    "cols1 = ['region', 'revenue']\n",
    "df1 = sales[cols1]\n",
    "X1 = df1.iloc[:,[0,1]].values\n",
    "number_of_clusters=6\n",
    "km = KMeans(n_clusters=number_of_clusters)\n",
    "km.fit(X1)"
   ]
  },
  {
   "cell_type": "code",
   "execution_count": 30,
   "metadata": {},
   "outputs": [
    {
     "data": {
      "image/png": "[encoded data removed]",
      "text/plain": [
       "<Figure size 720x576 with 1 Axes>"
      ]
     },
     "metadata": {},
     "output_type": "display_data"
    }
   ],
   "source": [
    "plt.figure(figsize=(10,8))\n",
    "plt.scatter(X1[:, 0], X1[:, 1],)\n",
    "plt.xlabel('Region')\n",
    "plt.ylabel('Revenue')\n",
    "plt.title('KMeans clusters, n=6');"
   ]
  },
  {
   "cell_type": "code",
   "execution_count": null,
   "metadata": {},
   "outputs": [],
   "source": []
  }
 ],
 "metadata": {
  "kernelspec": {
   "display_name": "Python 3",
   "language": "python",
   "name": "python3"
  },
  "language_info": {
   "codemirror_mode": {
    "name": "ipython",
    "version": 3
   },
   "file_extension": ".py",
   "mimetype": "text/x-python",
   "name": "python",
   "nbconvert_exporter": "python",
   "pygments_lexer": "ipython3",
   "version": "3.6.5"
  }
 },
 "nbformat": 4,
 "nbformat_minor": 2
}
